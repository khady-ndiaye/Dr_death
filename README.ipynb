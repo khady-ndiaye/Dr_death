{
 "cells": [
  {
   "cell_type": "markdown",
   "id": "bdf6b403-40ef-411d-a3ec-c48255d82ba0",
   "metadata": {},
   "source": [
    "# Harold Shipman : Analyse d'un medecin meurtrier"
   ]
  },
  {
   "cell_type": "markdown",
   "id": "cf8f2f69-10a1-46f9-a5bd-c35b43b3e999",
   "metadata": {},
   "source": [
    "## contexte\n",
    "Harold Shipman était un médecin généraliste à Hyde, en Angleterre reconnu coupable d’environ 215 meurtres, tous commis sur ses propres patients, en leur administrant des surdoses d’opiacés.\n",
    "\n",
    "Ce projet vise à **analyser les victimes** de Shipman à l’aide de **Power BI**, afin de mieux comprendre le profil des personnes assassinées et les périodes de prédilection de ses crimes.\n"
   ]
  },
  {
   "cell_type": "markdown",
   "id": "08d64dcd-e618-4713-a36b-4573994d0858",
   "metadata": {},
   "source": [
    "## Objectifs du projet:\n",
    "- Veille et prise en main de l'outil **Power BI**\n",
    "- Identifier les caractéristiques démographiques des victimes (âge, sexe…)\n",
    "- Analyser les dates et heures de décès\n",
    "- Comparer les horaires de décès des patients de Shipman avec ceux de médecins généralistes classiques\n",
    "- Créer un **Dashboard interactif, clair et informatif**\n"
   ]
  },
  {
   "cell_type": "markdown",
   "id": "f8581229-e6cb-44a6-bddb-aef828ca0706",
   "metadata": {},
   "source": [
    "## Sommaire\n",
    "1. VEILLE TECHNOLOGIQUE SUR **Power BI**\n",
    "2. SHIPMAN ANALYSIS\n",
    "    1. CHARGEMENT DES DONNEES\n",
    "    2. NETTOYAGES ET TRANSFORMATIONS DES DONNEES AVEC POWER QUERI\n",
    "    3. VISUALISATIONS\n",
    "       .PROFIL DES VICTIMES\n",
    "       .ANALYSE TEMPORELLE\n",
    "       .ANALYSE DES LIEUX DE DECES\n",
    "       .ETUDE LA CORRELATION \n",
    "       .COMPARAISONS SHIPMAN VS AUTRES DR\n",
    "    5. Conclusion\n"
   ]
  },
  {
   "cell_type": "markdown",
   "id": "e9115a86-b660-4ce6-b0ce-9e5b60cd6239",
   "metadata": {},
   "source": [
    "## Veille technologique sur Power BI\n",
    "### Qu'est ce Power BI?\n",
    "Power BI est un outil de Business Intelligence développé par Microsoft.  \n",
    "Il permet de se connecter à de nombreuses sources de données, de les extraire, de les transformer, puis de les analyser et de les visualiser à travers des dashboards interactifs et des rapports dynamiques.  \n",
    "\n",
    "Power BI facilite ainsi la prise de décision en rendant les données accessibles, compréhensibles et visuellement percutantes.\n",
    "### Qu'est ce qu'un Dashboard?\n",
    "Un dashboard (ou tableau de bord) est une interface visuelle interactive qui regroupe plusieurs indicateurs clés (graphiques, KPIs, tableaux, filtres…) pour permettre une analyse rapide et intuitive des données.\n",
    "\n",
    "Il aide à détecter des tendances, à suivre des performances et à comparer des résultats en un coup d'œil.\n",
    "\n",
    "### Sources de données compatibles avec Power BI\n",
    "\n",
    " #### Fichiers locaux\n",
    "\n",
    "Excel (.xlsx, .xls)\n",
    "\n",
    "Texte/CSV (.txt, .csv)\n",
    "\n",
    "JSON\n",
    "\n",
    "XML\n",
    "\n",
    "Fichiers PDF\n",
    "\n",
    "Dossiers contenant plusieurs fichiers\n",
    "\n",
    " #### Bases de données\n",
    "\n",
    "SQL Server\n",
    "\n",
    "MySQL\n",
    "\n",
    "PostgreSQL\n",
    "\n",
    "Oracle Database\n",
    "\n",
    "IBM DB2\n",
    "\n",
    "Teradata\n",
    "\n",
    "Amazon Redshift\n",
    "\n",
    "Snowflake\n",
    "\n",
    "SAP HANA\n",
    "\n",
    "Databricks\n",
    "\n",
    " #### Sources cloud\n",
    "\n",
    "OneDrive\n",
    "\n",
    "SharePoint Online\n",
    "\n",
    "Azure SQL Database\n",
    "\n",
    "Azure Blob Storage\n",
    "\n",
    "Azure Data Lake\n",
    "\n",
    "Google BigQuery\n",
    "\n",
    "Amazon S3 (via connecteurs tiers)\n",
    "\n",
    " #### Services en ligne\n",
    "\n",
    "Power BI Dataflows\n",
    "\n",
    "Microsoft Exchange\n",
    "\n",
    "Microsoft Dynamics 365\n",
    "\n",
    "Google Analytics\n",
    "\n",
    "Salesforce\n",
    "\n",
    "GitHub\n",
    "\n",
    "Zendesk\n",
    "\n",
    "LinkedIn Sales Navigator\n",
    "\n",
    " #### Connecteurs personnalisés / avancés\n",
    "\n",
    "Web (API, fichiers en ligne)\n",
    "\n",
    "OData Feed\n",
    "\n",
    "R Script\n",
    "\n",
    "Python Script\n",
    "\n",
    "ODBC / OLE DB\n",
    "\n",
    "Power BI prend en charge une très large gamme de sources de données, qu’elles soient locales, cloud, relationnelles ou non relationnelles. Grâce à ses connecteurs natifs et à la possibilité d’ajouter des scripts ou des connecteurs personnalisés, Power BI reste l’un des outils les plus flexibles du marché."
   ]
  },
  {
   "cell_type": "markdown",
   "id": "d146e0b3-6c0d-4136-a6bb-d215ad4f551f",
   "metadata": {},
   "source": [
    "## Fonctionnalités principales de Power BI et outils associés"
   ]
  },
  {
   "cell_type": "markdown",
   "id": "cbb5b6c3-97ba-4ac2-8719-7c5b281c03f3",
   "metadata": {},
   "source": [
    "###  Collecte et préparation des données\n",
    "Connexion à de multiples sources de données (Excel, SQL Server, Azure, SharePoint, API, web, etc.)\n",
    "\n",
    "Power Query : outil de transformation et nettoyage des données (ETL)\n",
    "\n",
    "Fusion et jointure de tables\n",
    "\n",
    "Automatisation des mises à jour de données\n",
    "\n",
    "Gestion des relations entre tables"
   ]
  },
  {
   "cell_type": "markdown",
   "id": "10b8d32b-ffc6-4189-8dfd-e7ffcad1386a",
   "metadata": {},
   "source": [
    "### Visualisation et reporting\n",
    "Création de tableaux de bord interactifs\n",
    "\n",
    "Nombreuses visualisations disponibles (graphiques, cartes, jauges, matrices, histogrammes, etc.)\n",
    "\n",
    "Visualisations personnalisées via le marketplace ou développement D3.js\n",
    "\n",
    "Filtres et segments interactifs\n",
    "\n",
    "Drill down / Drill through (exploration des données en profondeur)\n",
    "\n",
    "Rapports paginés (format PDF/printable pour reporting formel)"
   ]
  },
  {
   "cell_type": "markdown",
   "id": "713ceec8-f4c4-4c5d-9de2-38af0afa7307",
   "metadata": {},
   "source": [
    "### Analyse avancée\n",
    "DAX (Data Analysis Expressions) : langage pour les calculs personnalisés\n",
    "\n",
    "Mesures et colonnes calculées\n",
    "\n",
    "KPI et indicateurs dynamiques\n",
    "\n",
    "Groupes, hiérarchies et regroupements personnalisés\n",
    "\n",
    "Fonctions temporelles pour l’analyse chronologique\n",
    "\n",
    "Intégration de modèles de machine learning (via Azure ML ou Python/R)"
   ]
  },
  {
   "cell_type": "markdown",
   "id": "b2552b8b-8239-4293-94a6-aa6575e05fb9",
   "metadata": {},
   "source": [
    "### Collaboration et partage\n",
    "Publication sur le service Power BI en ligne\n",
    "\n",
    "Partage de rapports avec des collègues ou groupes\n",
    "\n",
    "Création d’espaces de travail collaboratifs\n",
    "\n",
    "Commentaires intégrés dans les rapports\n",
    "\n",
    "Accès mobile via l'application Power BI\n",
    "\n"
   ]
  },
  {
   "cell_type": "markdown",
   "id": "48a278bd-4b7d-411c-a7ae-7c772558a94a",
   "metadata": {},
   "source": [
    " ## Sécurité et gouvernance\n",
    "Sécurité au niveau des lignes (RLS)\n",
    "\n",
    "Gestion des rôles et des autorisations\n",
    "\n",
    "Audits et journalisation\n",
    "\n",
    "Conformité RGPD et normes ISO\n",
    "\n"
   ]
  },
  {
   "cell_type": "markdown",
   "id": "82fa0662-bbd7-45e1-a0cd-54fcea5d6f34",
   "metadata": {},
   "source": [
    "## Automatisation et intégration\n",
    "Actualisation planifiée des jeux de données\n",
    "\n",
    "Power Automate pour automatiser les workflows (notifications, envois de rapports, etc.)\n",
    "\n",
    "Intégration avec Excel, Teams, SharePoint, Azure, Dynamics 365\n",
    "\n",
    "API REST pour intégration dans des apps tierces\n",
    "\n"
   ]
  },
  {
   "cell_type": "markdown",
   "id": "23ca4fe1-79b3-4d8f-bda8-395c36bae8d1",
   "metadata": {},
   "source": [
    "## Écosystème étendu\n",
    "Power BI Embedded pour intégrer les dashboards dans des applications\n",
    "\n",
    "Marketplace de visuels personnalisés\n",
    "\n",
    "Support de scripts R et Python\n",
    "\n",
    "Extensions personnalisées via SDK"
   ]
  },
  {
   "cell_type": "code",
   "execution_count": null,
   "id": "03261276-5468-4793-a024-65b74721680d",
   "metadata": {},
   "outputs": [],
   "source": []
  }
 ],
 "metadata": {
  "kernelspec": {
   "display_name": "Python [conda env:base] *",
   "language": "python",
   "name": "conda-base-py"
  },
  "language_info": {
   "codemirror_mode": {
    "name": "ipython",
    "version": 3
   },
   "file_extension": ".py",
   "mimetype": "text/x-python",
   "name": "python",
   "nbconvert_exporter": "python",
   "pygments_lexer": "ipython3",
   "version": "3.12.3"
  }
 },
 "nbformat": 4,
 "nbformat_minor": 5
}
