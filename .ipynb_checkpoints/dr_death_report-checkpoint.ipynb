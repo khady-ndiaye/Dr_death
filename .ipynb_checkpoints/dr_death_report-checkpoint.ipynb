{
 "cells": [
  {
   "cell_type": "markdown",
   "id": "e93c8a7d-88f9-42ad-a13b-885db5ecf19e",
   "metadata": {},
   "source": [
    "#  Analyse comportementale et temporelle des meurtres commis par Harold Shipman\n",
    "### Étude exploratoire des données victimes via Power BI"
   ]
  },
  {
   "cell_type": "markdown",
   "id": "fa4e1c95-6387-4de4-acfc-25eedaf5479d",
   "metadata": {},
   "source": [
    "Dashboard"
   ]
  },
  {
   "cell_type": "markdown",
   "id": "13e9f7c5-5c03-476e-ab45-491ec0dd7697",
   "metadata": {},
   "source": [
    "capture Graph"
   ]
  },
  {
   "cell_type": "markdown",
   "id": "80bc63ea-5a6d-4095-adce-247c2121bf37",
   "metadata": {},
   "source": [
    "##  1. Un ciblage opportuniste et méthodique\n",
    "\n",
    "L'analyse croisée du graphique sur le genre et l'âge des victimes avec les données démographiques et juridiques britanniques révèle un schéma de prédation précis : Harold Shipman ciblait en priorité des femmes âgées, veuves ou proches de l'être. Cela s'explique par plusieurs facteurs :\n",
    "\n",
    "- En Angleterre, 70 % des femmes survivent à leur conjoint, ce qui les rend souvent seules et vulnérables.\n",
    "- Leur espérance de vie plus longue (85 ans vs 79 ans pour les hommes) les expose davantage à une prise en charge médicale prolongée.\n",
    "- En droit anglais, l'héritage revient au dernier survivant du couple, ce qui peut motiver la falsification de testaments.\n",
    "\n",
    "Shipman exploitait ainsi une population isolée, peu contestataire et souvent sans témoin direct, maximisant ses chances d'agir sans éveiller de soupçon.\n"
   ]
  },
  {
   "cell_type": "markdown",
   "id": "a75fa743-96c9-4052-9da9-768b38d10125",
   "metadata": {},
   "source": [
    "capture gragh"
   ]
  },
  {
   "cell_type": "markdown",
   "id": "0ba513af-c64d-4122-9adc-2258aff7ac6b",
   "metadata": {},
   "source": [
    "##  2. Un mode opératoire calé sur le rythme d'un professionnel \"ordinaire\"\n",
    "\n",
    "Le graphique sur la répartition hebdomadaire des meurtres montre une concentration nette des décès entre le lundi et le vendredi (plus de 90 % des cas), avec une chute drastique le week-end (à peine 8,8 % les samedi et dimanche cumulés).  \n",
    "Ce schéma suggère une logique organisationnelle claire :\n",
    "\n",
    "- Shipman agissait comme un \"professionnel des heures ouvrables\", planifiant ses meurtres sur son temps de travail officiel, au rythme des consultations.\n",
    "- Les week-ends étaient \"off\", probablement pour préserver son image familiale ou éviter toute logistique compliquée (moins d'interventions médicales prévues, davantage de proches présents au domicile des patients, etc.).\n",
    "\n",
    "Cette répartition quasi-bureaucratique des homicides est troublante : elle montre que Shipman intégrait le meurtre à sa routine médicale, comme un acte \"technique\", inséré dans une journée de travail classique. Ce fonctionnement froid et méthodique renforce le caractère prédateur, déshumanisé et parfaitement dissimulé de ses actes.\n",
    "\n"
   ]
  },
  {
   "cell_type": "markdown",
   "id": "952a247e-a8ee-41f5-bf31-541723ecfac0",
   "metadata": {},
   "source": [
    "capture gragh"
   ]
  },
  {
   "cell_type": "markdown",
   "id": "5e7e9315-054b-45bc-9d3e-340b34b96581",
   "metadata": {},
   "source": [
    "##  3. Une prédation horaire ciblant les moments de vulnérabilité maximale\n",
    "\n",
    "L'analyse de la distribution horaire des décès révèle un pic saisissant entre 14h et 17h, avec un maximum vers 15h, en contraste net avec la répartition équilibrée des décès naturels. Cette concentration temporelle s'explique par plusieurs facteurs stratégiques :\n",
    "\n",
    "- Shipman alignait ses meurtres sur ses visites à domicile de l'après-midi, après ses consultations matinales en cabinet, créant ainsi une fenêtre d'action prévisible et sécurisée.\n",
    "- Cette plage horaire offrait une conjonction optimale d'isolement des victimes, souvent des femmes âgées seules à leur domicile à ce moment précis de la journée.\n",
    "- L'après-midi constituait un moment idéal pour administrer la diamorphine létale, signer les certificats de décès et falsifier les dossiers médicaux sans témoins.\n",
    "\n",
    "Ce schéma temporel lui permettait d'intercaler ses meurtres entre des visites légitimes, normalisant ainsi ces événements dans sa routine professionnelle.  \n",
    "Cette signature statistique, identifiée plus tard par le professeur David Spiegelhalter, démontre à quel point Shipman avait méthodiquement intégré ses actes criminels à une pratique médicale en apparence irréprochable. L'heure des décès constitue ainsi un \"marqueur comportemental\" révélateur, qui aurait pu — selon les experts — permettre sa détection dès 1996, évitant potentiellement des dizaines de victimes supplémentaires.\n"
   ]
  },
  {
   "cell_type": "markdown",
   "id": "dee34c7e-571b-4623-93a7-17a9874374c3",
   "metadata": {},
   "source": [
    "capture gragh"
   ]
  },
  {
   "cell_type": "markdown",
   "id": "7487a1ed-1bb2-4e9d-bd45-42b42f577423",
   "metadata": {},
   "source": [
    "##  4. Une fluctuation révélatrice : l'impact des plaintes et de l'installation en cabinet indépendant\n",
    "\n",
    "L'analyse du graphique de distribution annuelle des meurtres révèle une anomalie significative : un net ralentissement de l'activité criminelle entre 1990 et 1992. Cette période coïncide précisément avec deux événements majeurs :\n",
    "\n",
    "- Des plaintes formelles déposées par des patients auprès de l'autorité sanitaire locale de Donneybrook en 1990 et 1992, suggérant une période de surveillance accrue.\n",
    "- La préparation puis l'ouverture de son cabinet indépendant au 21 Market Street à Hyde le 1er janvier 1992, après avoir exercé au centre médical de Donneybrook.\n",
    "\n",
    "Cette baisse temporaire d'activité criminelle s'explique par plusieurs facteurs stratégiques :\n",
    "\n",
    "- Shipman a probablement adopté une posture de prudence extrême suite aux plaintes, conscient d'être potentiellement sous observation.\n",
    "- La période de transition professionnelle exigeait une image irréprochable pour attirer de nouveaux patients vers sa pratique indépendante.\n",
    "- L'établissement d'un nouveau cabinet demandait un investissement logistique et administratif considérable, réduisant ses opportunités criminelles.\n",
    "\n",
    "Le graphique montre ensuite une reprise progressive dès 1992-1993, qui s'accélère dramatiquement après 1995 pour atteindre un pic effroyable de près de 40 victimes en 1997. Cette escalade suggère que Shipman, une fois solidement établi dans son cabinet privé et ayant retrouvé un sentiment de sécurité, a non seulement repris ses activités meurtrières mais les a intensifiées de façon alarmante, fort d'une confiance renouvelée et d'une autonomie professionnelle complète.\n",
    "\n",
    "Cette fluctuation statistique illustre parfaitement la nature calculatrice et adaptative de Shipman, capable de moduler temporairement son comportement criminel en fonction des risques perçus, tout en maintenant sa détermination meurtrière sur le long terme.\n"
   ]
  },
  {
   "cell_type": "markdown",
   "id": "d2c87543-69d8-46e7-8da0-fa858f529a50",
   "metadata": {},
   "source": [
    "##  Profil criminel déduit des données\n",
    "\n",
    "Les données révèlent un profil de tueur en série structuré, méthodique et hautement stratégique. L’auteur cible majoritairement des femmes âgées, isolées, héritières potentielles du patrimoine familial. Son mode opératoire s’inscrit dans une routine professionnelle en semaine, principalement l’après-midi, période offrant isolement et couverture logistique.\n",
    "\n",
    "On observe également une capacité à adapter temporairement son comportement en fonction du niveau de risque perçu, avec des phases de prudence suivies d’une reprise intense. Ce schéma suggère un individu intelligent, organisé, en position d’autorité, utilisant un statut professionnel pour masquer une prédation sur le long terme.\n",
    "\n"
   ]
  }
 ],
 "metadata": {
  "kernelspec": {
   "display_name": "Python [conda env:base] *",
   "language": "python",
   "name": "conda-base-py"
  },
  "language_info": {
   "codemirror_mode": {
    "name": "ipython",
    "version": 3
   },
   "file_extension": ".py",
   "mimetype": "text/x-python",
   "name": "python",
   "nbconvert_exporter": "python",
   "pygments_lexer": "ipython3",
   "version": "3.12.3"
  }
 },
 "nbformat": 4,
 "nbformat_minor": 5
}
